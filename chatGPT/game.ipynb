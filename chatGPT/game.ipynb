{
 "cells": [
  {
   "cell_type": "code",
   "execution_count": 2,
   "metadata": {},
   "outputs": [
    {
     "ename": "KeyboardInterrupt",
     "evalue": "",
     "output_type": "error",
     "traceback": [
      "\u001b[1;31m---------------------------------------------------------------------------\u001b[0m",
      "\u001b[1;31mKeyboardInterrupt\u001b[0m                         Traceback (most recent call last)",
      "\u001b[1;32mc:\\Users\\shira\\デスクトップ\\programming\\python\\chatGPT\\game.ipynb Cell 1\u001b[0m in \u001b[0;36m<cell line: 36>\u001b[1;34m()\u001b[0m\n\u001b[0;32m     <a href='vscode-notebook-cell:/c%3A/Users/shira/%E3%83%87%E3%82%B9%E3%82%AF%E3%83%88%E3%83%83%E3%83%97/programming/python/chatGPT/game.ipynb#W1sZmlsZQ%3D%3D?line=55'>56</a>\u001b[0m     pygame\u001b[39m.\u001b[39mdraw\u001b[39m.\u001b[39mrect(screen, (\u001b[39m0\u001b[39m, \u001b[39m0\u001b[39m, \u001b[39m255\u001b[39m), (obj\u001b[39m.\u001b[39mx, obj\u001b[39m.\u001b[39my, obj\u001b[39m.\u001b[39mwidth, obj\u001b[39m.\u001b[39mheight))\n\u001b[0;32m     <a href='vscode-notebook-cell:/c%3A/Users/shira/%E3%83%87%E3%82%B9%E3%82%AF%E3%83%88%E3%83%83%E3%83%97/programming/python/chatGPT/game.ipynb#W1sZmlsZQ%3D%3D?line=57'>58</a>\u001b[0m     \u001b[39m# 画面を更新\u001b[39;00m\n\u001b[1;32m---> <a href='vscode-notebook-cell:/c%3A/Users/shira/%E3%83%87%E3%82%B9%E3%82%AF%E3%83%88%E3%83%83%E3%83%97/programming/python/chatGPT/game.ipynb#W1sZmlsZQ%3D%3D?line=58'>59</a>\u001b[0m     pygame\u001b[39m.\u001b[39;49mdisplay\u001b[39m.\u001b[39;49mupdate()\n\u001b[0;32m     <a href='vscode-notebook-cell:/c%3A/Users/shira/%E3%83%87%E3%82%B9%E3%82%AF%E3%83%88%E3%83%83%E3%83%97/programming/python/chatGPT/game.ipynb#W1sZmlsZQ%3D%3D?line=60'>61</a>\u001b[0m \u001b[39m# Pygameを終了\u001b[39;00m\n\u001b[0;32m     <a href='vscode-notebook-cell:/c%3A/Users/shira/%E3%83%87%E3%82%B9%E3%82%AF%E3%83%88%E3%83%83%E3%83%97/programming/python/chatGPT/game.ipynb#W1sZmlsZQ%3D%3D?line=61'>62</a>\u001b[0m pygame\u001b[39m.\u001b[39mquit()\n",
      "\u001b[1;31mKeyboardInterrupt\u001b[0m: "
     ]
    },
    {
     "ename": "",
     "evalue": "",
     "output_type": "error",
     "traceback": [
      "\u001b[1;31mThe Kernel crashed while executing code in the the current cell or a previous cell. Please review the code in the cell(s) to identify a possible cause of the failure. Click <a href='https://aka.ms/vscodeJupyterKernelCrash'>here</a> for more info. View Jupyter <a href='command:jupyter.viewOutput'>log</a> for further details."
     ]
    }
   ],
   "source": [
    "\n"
   ]
  }
 ],
 "metadata": {
  "kernelspec": {
   "display_name": "Python 3.10.5 64-bit",
   "language": "python",
   "name": "python3"
  },
  "language_info": {
   "codemirror_mode": {
    "name": "ipython",
    "version": 3
   },
   "file_extension": ".py",
   "mimetype": "text/x-python",
   "name": "python",
   "nbconvert_exporter": "python",
   "pygments_lexer": "ipython3",
   "version": "3.10.5"
  },
  "orig_nbformat": 4,
  "vscode": {
   "interpreter": {
    "hash": "35a0518915ea057762a6a54b55686bdcf0eddd58d44229747bccfeec0879b62d"
   }
  }
 },
 "nbformat": 4,
 "nbformat_minor": 2
}
